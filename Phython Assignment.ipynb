{
 "cells": [
  {
   "cell_type": "markdown",
   "metadata": {
    "id": "9Oky9hC6iBSo"
   },
   "source": [
    "Write a simple program that calculate the discount on an item.\n",
    "Users are only required to pass in the cost of the item and the discount given. Eg what is cost (enter the cost and the discount which is 10%"
   ]
  },
  {
   "cell_type": "code",
   "execution_count": null,
   "metadata": {
    "id": "-FIm4UZqiIld"
   },
   "outputs": [],
   "source": []
  },
  {
   "cell_type": "code",
   "execution_count": 1,
   "metadata": {
    "colab": {
     "base_uri": "https://localhost:8080/"
    },
    "id": "Cm-3ubt7iJV_",
    "outputId": "6d49dea2-eb08-47ed-ed96-358018ada11c"
   },
   "outputs": [
    {
     "name": "stdout",
     "output_type": "stream",
     "text": [
      "Enter the cost of the item: $200\n",
      "Enter the discount percentage: 10\n",
      "\n",
      "Discount amount: $20.00\n",
      "Final price after discount: $180.00\n"
     ]
    }
   ],
   "source": [
    "def calculate_discount(cost, discount_percentage):\n",
    "    discount_amount = (discount_percentage / 100) * cost\n",
    "    final_price = cost - discount_amount\n",
    "    return discount_amount, final_price\n",
    "\n",
    "def main():\n",
    "    try:\n",
    "        cost = float(input(\"Enter the cost of the item: $\"))\n",
    "        discount_percentage = float(input(\"Enter the discount percentage: \"))\n",
    "\n",
    "        discount_amount, final_price = calculate_discount(cost, discount_percentage)\n",
    "\n",
    "        print(f\"\\nDiscount amount: ${discount_amount:.2f}\")\n",
    "        print(f\"Final price after discount: ${final_price:.2f}\")\n",
    "    except ValueError:\n",
    "        print(\"Invalid input. Please enter numerical values for cost and discount percentage.\")\n",
    "\n",
    "if __name__ == \"__main__\":\n",
    "    main()\n"
   ]
  },
  {
   "cell_type": "code",
   "execution_count": 1,
   "metadata": {
    "id": "jm88GmgZiU1l"
   },
   "outputs": [],
   "source": []
  }
 ],
 "metadata": {
  "colab": {
   "authorship_tag": "ABX9TyOx1f3bBA24mbXvrTwzFnLQ",
   "include_colab_link": true,
   "provenance": []
  },
  "kernelspec": {
   "display_name": "Python 3 (ipykernel)",
   "language": "python",
   "name": "python3"
  },
  "language_info": {
   "codemirror_mode": {
    "name": "ipython",
    "version": 3
   },
   "file_extension": ".py",
   "mimetype": "text/x-python",
   "name": "python",
   "nbconvert_exporter": "python",
   "pygments_lexer": "ipython3",
   "version": "3.11.7"
  }
 },
 "nbformat": 4,
 "nbformat_minor": 4
}
